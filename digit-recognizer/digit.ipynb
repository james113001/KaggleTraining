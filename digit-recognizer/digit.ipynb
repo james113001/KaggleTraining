{
 "cells": [
  {
   "cell_type": "code",
   "execution_count": 1,
   "id": "2b97d362",
   "metadata": {},
   "outputs": [],
   "source": [
    "import pandas as pd\n",
    "import numpy as np\n",
    "from sklearn.model_selection import train_test_split\n",
    "from keras.utils import to_categorical\n",
    "from sklearn.preprocessing import StandardScaler\n",
    "import matplotlib.pyplot as plt"
   ]
  },
  {
   "cell_type": "code",
   "execution_count": 2,
   "id": "86c9c9de",
   "metadata": {},
   "outputs": [],
   "source": [
    "# Load CSV file\n",
    "df = pd.read_csv('train.csv')\n",
    "# Load and preprocess the test set\n",
    "df_test = pd.read_csv('test.csv')"
   ]
  },
  {
   "cell_type": "code",
   "execution_count": 3,
   "id": "64af84eb",
   "metadata": {},
   "outputs": [
    {
     "data": {
      "image/png": "[encoded data removed]",
      "text/plain": [
       "<Figure size 640x480 with 1 Axes>"
      ]
     },
     "metadata": {},
     "output_type": "display_data"
    }
   ],
   "source": [
    "#check for even class distribution\n",
    "df['label'].value_counts().plot(kind='bar')\n",
    "plt.title('Class Distribution')\n",
    "plt.xlabel('Class')\n",
    "plt.ylabel('Frequency')\n",
    "plt.show()"
   ]
  },
  {
   "cell_type": "code",
   "execution_count": 4,
   "id": "00a78f64",
   "metadata": {},
   "outputs": [],
   "source": [
    "# separate into input and output columns\n",
    "X = df.drop('label', axis=1).values\n",
    "y = df['label'].values\n",
    "\n",
    "# separate into input and output columns\n",
    "X_final = df_test.values"
   ]
  },
  {
   "cell_type": "markdown",
   "id": "fe88d1d8",
   "metadata": {},
   "source": [
    "# Model Options"
   ]
  },
  {
   "cell_type": "code",
   "execution_count": 5,
   "id": "9b0c6846",
   "metadata": {},
   "outputs": [],
   "source": [
    "from keras.models import Sequential\n",
    "from keras.layers import Conv2D, MaxPooling2D, Dense, Flatten\n",
    "from sklearn import svm"
   ]
  },
  {
   "cell_type": "markdown",
   "id": "71772083",
   "metadata": {},
   "source": [
    "## Convoluted NN"
   ]
  },
  {
   "cell_type": "code",
   "execution_count": 6,
   "id": "fbca36e7",
   "metadata": {},
   "outputs": [
    {
     "name": "stdout",
     "output_type": "stream",
     "text": [
      "Epoch 1/10\n",
      "1050/1050 [==============================] - 23s 19ms/step - loss: 0.2126 - accuracy: 0.9376 - val_loss: 0.0908 - val_accuracy: 0.9712\n",
      "Epoch 2/10\n",
      "1050/1050 [==============================] - 19s 18ms/step - loss: 0.0694 - accuracy: 0.9789 - val_loss: 0.0651 - val_accuracy: 0.9801\n",
      "Epoch 3/10\n",
      "1050/1050 [==============================] - 19s 18ms/step - loss: 0.0444 - accuracy: 0.9855 - val_loss: 0.0589 - val_accuracy: 0.9812\n",
      "Epoch 4/10\n",
      "1050/1050 [==============================] - 19s 18ms/step - loss: 0.0306 - accuracy: 0.9903 - val_loss: 0.0630 - val_accuracy: 0.9818\n",
      "Epoch 5/10\n",
      "1050/1050 [==============================] - 19s 18ms/step - loss: 0.0208 - accuracy: 0.9932 - val_loss: 0.0609 - val_accuracy: 0.9849\n",
      "Epoch 6/10\n",
      "1050/1050 [==============================] - 19s 18ms/step - loss: 0.0156 - accuracy: 0.9946 - val_loss: 0.0745 - val_accuracy: 0.9830\n",
      "Epoch 7/10\n",
      "1050/1050 [==============================] - 18s 17ms/step - loss: 0.0115 - accuracy: 0.9963 - val_loss: 0.0811 - val_accuracy: 0.9805\n",
      "Epoch 8/10\n",
      "1050/1050 [==============================] - 18s 17ms/step - loss: 0.0091 - accuracy: 0.9971 - val_loss: 0.0665 - val_accuracy: 0.9844\n",
      "Epoch 9/10\n",
      "1050/1050 [==============================] - 19s 18ms/step - loss: 0.0078 - accuracy: 0.9977 - val_loss: 0.0768 - val_accuracy: 0.9840\n",
      "Epoch 10/10\n",
      "1050/1050 [==============================] - 19s 18ms/step - loss: 0.0063 - accuracy: 0.9981 - val_loss: 0.0713 - val_accuracy: 0.9819\n"
     ]
    },
    {
     "data": {
      "text/plain": [
       "<keras.callbacks.History at 0x26e81ea9420>"
      ]
     },
     "execution_count": 6,
     "metadata": {},
     "output_type": "execute_result"
    }
   ],
   "source": [
    "#98.389 score\n",
    "\n",
    "# reshape inputs to be [samples][width][height][channels]\n",
    "X = X.reshape((X.shape[0], 28, 28, 1))\n",
    "X_final = X_final.reshape((X_final.shape[0], 28, 28, 1))\n",
    "# normalize pixel values\n",
    "X = X.astype('float32') / 255.0\n",
    "X_final = X_final.astype('float32') / 255.0\n",
    "\n",
    "# one hot encode target values\n",
    "y = to_categorical(y)\n",
    "\n",
    "# split the dataset\n",
    "X_train, X_test, y_train, y_test = train_test_split(X, y, test_size=0.2, random_state=1)\n",
    "\n",
    "model = Sequential()\n",
    "model.add(Conv2D(32, (3, 3), activation='relu', input_shape=(28, 28, 1)))\n",
    "model.add(MaxPooling2D((2, 2)))\n",
    "model.add(Flatten())\n",
    "model.add(Dense(100, activation='relu'))\n",
    "model.add(Dense(10, activation='softmax'))\n",
    "\n",
    "# compile model\n",
    "model.compile(optimizer='adam', loss='categorical_crossentropy', metrics=['accuracy'])\n",
    "\n",
    "# train the model\n",
    "model.fit(X_train, y_train, epochs=10, batch_size=32, validation_data=(X_test, y_test))"
   ]
  },
  {
   "cell_type": "code",
   "execution_count": 7,
   "id": "74acdcaa",
   "metadata": {},
   "outputs": [
    {
     "name": "stdout",
     "output_type": "stream",
     "text": [
      "875/875 [==============================] - 5s 6ms/step\n"
     ]
    }
   ],
   "source": [
    "# Predict labels for the test set\n",
    "pred = model.predict(X_final)\n",
    "pred = np.argmax(pred, axis=1)  # Convert one-hot encoded predictions to labels\n",
    "\n",
    "# Create a DataFrame with ImageIDs and predicted labels\n",
    "df_pred = pd.DataFrame({\n",
    "    'ImageID': df_test.index + 1,  # Assuming ImageIDs should start from 1\n",
    "    'Label': pred\n",
    "})\n",
    "\n",
    "# Save the result DataFrame to a new CSV file\n",
    "df_pred.to_csv('cnnpredicted_labels.csv', index=False) "
   ]
  },
  {
   "cell_type": "markdown",
   "id": "1329342e",
   "metadata": {},
   "source": [
    "## Deep Neural Network"
   ]
  },
  {
   "cell_type": "code",
   "execution_count": 25,
   "id": "87da6f07",
   "metadata": {},
   "outputs": [
    {
     "name": "stdout",
     "output_type": "stream",
     "text": [
      "Epoch 1/10\n",
      "1050/1050 [==============================] - 3s 2ms/step - loss: 0.2939 - accuracy: 0.9124 - val_loss: 0.1578 - val_accuracy: 0.9529\n",
      "Epoch 2/10\n",
      "1050/1050 [==============================] - 2s 2ms/step - loss: 0.1275 - accuracy: 0.9622 - val_loss: 0.1193 - val_accuracy: 0.9635\n",
      "Epoch 3/10\n",
      "1050/1050 [==============================] - 2s 2ms/step - loss: 0.0851 - accuracy: 0.9736 - val_loss: 0.1094 - val_accuracy: 0.9655\n",
      "Epoch 4/10\n",
      "1050/1050 [==============================] - 2s 2ms/step - loss: 0.0635 - accuracy: 0.9800 - val_loss: 0.0930 - val_accuracy: 0.9730\n",
      "Epoch 5/10\n",
      "1050/1050 [==============================] - 2s 2ms/step - loss: 0.0487 - accuracy: 0.9843 - val_loss: 0.1266 - val_accuracy: 0.9660\n",
      "Epoch 6/10\n",
      "1050/1050 [==============================] - 2s 2ms/step - loss: 0.0352 - accuracy: 0.9880 - val_loss: 0.1382 - val_accuracy: 0.9631\n",
      "Epoch 7/10\n",
      "1050/1050 [==============================] - 2s 2ms/step - loss: 0.0312 - accuracy: 0.9896 - val_loss: 0.1020 - val_accuracy: 0.9750\n",
      "Epoch 8/10\n",
      "1050/1050 [==============================] - 2s 2ms/step - loss: 0.0227 - accuracy: 0.9927 - val_loss: 0.1395 - val_accuracy: 0.9690\n",
      "Epoch 9/10\n",
      "1050/1050 [==============================] - 2s 2ms/step - loss: 0.0224 - accuracy: 0.9920 - val_loss: 0.1156 - val_accuracy: 0.9711\n",
      "Epoch 10/10\n",
      "1050/1050 [==============================] - 2s 2ms/step - loss: 0.0194 - accuracy: 0.9935 - val_loss: 0.1262 - val_accuracy: 0.9711\n"
     ]
    },
    {
     "data": {
      "text/plain": [
       "<keras.callbacks.History at 0x217614ddba0>"
      ]
     },
     "execution_count": 25,
     "metadata": {},
     "output_type": "execute_result"
    }
   ],
   "source": [
    "# split the dataset\n",
    "X_train, X_test, y_train, y_test = train_test_split(X, y, test_size=0.2, random_state=1)\n",
    "\n",
    "#model with\n",
    "model = Sequential()\n",
    "model.add(Flatten(input_shape=(28, 28, 1)))\n",
    "model.add(Dense(128, activation='relu'))\n",
    "model.add(Dense(64, activation='relu'))\n",
    "model.add(Dense(10, activation='softmax'))\n",
    "\n",
    "# compile model\n",
    "model.compile(optimizer='adam', loss='categorical_crossentropy', metrics=['accuracy'])\n",
    "\n",
    "# train the model\n",
    "model.fit(X_train, y_train, epochs=10, batch_size=32, validation_data=(X_test, y_test))"
   ]
  },
  {
   "cell_type": "code",
   "execution_count": 26,
   "id": "99a1f55f",
   "metadata": {},
   "outputs": [
    {
     "name": "stdout",
     "output_type": "stream",
     "text": [
      "875/875 [==============================] - 1s 997us/step\n"
     ]
    }
   ],
   "source": [
    "# Predict labels for the test set\n",
    "pred = model.predict(X_final)\n",
    "pred = np.argmax(pred, axis=1)  # Convert one-hot encoded predictions to labels\n",
    "\n",
    "# Create a DataFrame with ImageIDs and predicted labels\n",
    "df_pred = pd.DataFrame({\n",
    "    'ImageID': df_test.index + 1,  # Assuming ImageIDs should start from 1\n",
    "    'Label': pred\n",
    "})\n",
    "\n",
    "# Save the result DataFrame to a new CSV file\n",
    "df_pred.to_csv('dnnpredicted_labels.csv', index=False)"
   ]
  },
  {
   "cell_type": "markdown",
   "id": "4e29b20e",
   "metadata": {},
   "source": [
    "## SVM"
   ]
  },
  {
   "cell_type": "code",
   "execution_count": 39,
   "id": "ebf93743",
   "metadata": {},
   "outputs": [
    {
     "data": {
      "text/html": [
       "<style>#sk-container-id-1 {color: black;background-color: white;}#sk-container-id-1 pre{padding: 0;}#sk-container-id-1 div.sk-toggleable {background-color: white;}#sk-container-id-1 label.sk-toggleable__label {cursor: pointer;display: block;width: 100%;margin-bottom: 0;padding: 0.3em;box-sizing: border-box;text-align: center;}#sk-container-id-1 label.sk-toggleable__label-arrow:before {content: \"▸\";float: left;margin-right: 0.25em;color: #696969;}#sk-container-id-1 label.sk-toggleable__label-arrow:hover:before {color: black;}#sk-container-id-1 div.sk-estimator:hover label.sk-toggleable__label-arrow:before {color: black;}#sk-container-id-1 div.sk-toggleable__content {max-height: 0;max-width: 0;overflow: hidden;text-align: left;background-color: #f0f8ff;}#sk-container-id-1 div.sk-toggleable__content pre {margin: 0.2em;color: black;border-radius: 0.25em;background-color: #f0f8ff;}#sk-container-id-1 input.sk-toggleable__control:checked~div.sk-toggleable__content {max-height: 200px;max-width: 100%;overflow: auto;}#sk-container-id-1 input.sk-toggleable__control:checked~label.sk-toggleable__label-arrow:before {content: \"▾\";}#sk-container-id-1 div.sk-estimator input.sk-toggleable__control:checked~label.sk-toggleable__label {background-color: #d4ebff;}#sk-container-id-1 div.sk-label input.sk-toggleable__control:checked~label.sk-toggleable__label {background-color: #d4ebff;}#sk-container-id-1 input.sk-hidden--visually {border: 0;clip: rect(1px 1px 1px 1px);clip: rect(1px, 1px, 1px, 1px);height: 1px;margin: -1px;overflow: hidden;padding: 0;position: absolute;width: 1px;}#sk-container-id-1 div.sk-estimator {font-family: monospace;background-color: #f0f8ff;border: 1px dotted black;border-radius: 0.25em;box-sizing: border-box;margin-bottom: 0.5em;}#sk-container-id-1 div.sk-estimator:hover {background-color: #d4ebff;}#sk-container-id-1 div.sk-parallel-item::after {content: \"\";width: 100%;border-bottom: 1px solid gray;flex-grow: 1;}#sk-container-id-1 div.sk-label:hover label.sk-toggleable__label {background-color: #d4ebff;}#sk-container-id-1 div.sk-serial::before {content: \"\";position: absolute;border-left: 1px solid gray;box-sizing: border-box;top: 0;bottom: 0;left: 50%;z-index: 0;}#sk-container-id-1 div.sk-serial {display: flex;flex-direction: column;align-items: center;background-color: white;padding-right: 0.2em;padding-left: 0.2em;position: relative;}#sk-container-id-1 div.sk-item {position: relative;z-index: 1;}#sk-container-id-1 div.sk-parallel {display: flex;align-items: stretch;justify-content: center;background-color: white;position: relative;}#sk-container-id-1 div.sk-item::before, #sk-container-id-1 div.sk-parallel-item::before {content: \"\";position: absolute;border-left: 1px solid gray;box-sizing: border-box;top: 0;bottom: 0;left: 50%;z-index: -1;}#sk-container-id-1 div.sk-parallel-item {display: flex;flex-direction: column;z-index: 1;position: relative;background-color: white;}#sk-container-id-1 div.sk-parallel-item:first-child::after {align-self: flex-end;width: 50%;}#sk-container-id-1 div.sk-parallel-item:last-child::after {align-self: flex-start;width: 50%;}#sk-container-id-1 div.sk-parallel-item:only-child::after {width: 0;}#sk-container-id-1 div.sk-dashed-wrapped {border: 1px dashed gray;margin: 0 0.4em 0.5em 0.4em;box-sizing: border-box;padding-bottom: 0.4em;background-color: white;}#sk-container-id-1 div.sk-label label {font-family: monospace;font-weight: bold;display: inline-block;line-height: 1.2em;}#sk-container-id-1 div.sk-label-container {text-align: center;}#sk-container-id-1 div.sk-container {/* jupyter's `normalize.less` sets `[hidden] { display: none; }` but bootstrap.min.css set `[hidden] { display: none !important; }` so we also need the `!important` here to be able to override the default hidden behavior on the sphinx rendered scikit-learn.org. See: https://github.com/scikit-learn/scikit-learn/issues/21755 */display: inline-block !important;position: relative;}#sk-container-id-1 div.sk-text-repr-fallback {display: none;}</style><div id=\"sk-container-id-1\" class=\"sk-top-container\"><div class=\"sk-text-repr-fallback\"><pre>SVC(gamma=0.001)</pre><b>In a Jupyter environment, please rerun this cell to show the HTML representation or trust the notebook. <br />On GitHub, the HTML representation is unable to render, please try loading this page with nbviewer.org.</b></div><div class=\"sk-container\" hidden><div class=\"sk-item\"><div class=\"sk-estimator sk-toggleable\"><input class=\"sk-toggleable__control sk-hidden--visually\" id=\"sk-estimator-id-1\" type=\"checkbox\" checked><label for=\"sk-estimator-id-1\" class=\"sk-toggleable__label sk-toggleable__label-arrow\">SVC</label><div class=\"sk-toggleable__content\"><pre>SVC(gamma=0.001)</pre></div></div></div></div></div>"
      ],
      "text/plain": [
       "SVC(gamma=0.001)"
      ]
     },
     "execution_count": 39,
     "metadata": {},
     "output_type": "execute_result"
    }
   ],
   "source": [
    "scaler = StandardScaler()\n",
    "X = scaler.fit_transform(X)\n",
    "X_train, X_test, y_train, y_test = train_test_split(X, y, test_size=0.2, random_state=1)\n",
    "\n",
    "model = svm.SVC(gamma=0.001)\n",
    "model.fit(X_train, y_train)"
   ]
  },
  {
   "cell_type": "code",
   "execution_count": 40,
   "id": "fc270ae8",
   "metadata": {},
   "outputs": [],
   "source": [
    "# Predict labels for the test set\n",
    "y_final = model.predict(X_final)\n",
    "\n",
    "# Create a DataFrame with ImageIDs and predicted labels\n",
    "df_pred = pd.DataFrame({\n",
    "    'ImageID': df_test.index + 1,  # Assuming ImageIDs should start from 1\n",
    "    'Label': y_final\n",
    "})\n",
    "\n",
    "# Save the result DataFrame to a new CSV file\n",
    "df_pred.to_csv('predicted_labels_svm.csv', index=False)"
   ]
  }
 ],
 "metadata": {
  "kernelspec": {
   "display_name": "Python 3 (ipykernel)",
   "language": "python",
   "name": "python3"
  },
  "language_info": {
   "codemirror_mode": {
    "name": "ipython",
    "version": 3
   },
   "file_extension": ".py",
   "mimetype": "text/x-python",
   "name": "python",
   "nbconvert_exporter": "python",
   "pygments_lexer": "ipython3",
   "version": "3.10.8"
  }
 },
 "nbformat": 4,
 "nbformat_minor": 5
}
