{
 "cells": [
  {
   "cell_type": "code",
   "execution_count": 1,
   "id": "d49272ef-ff3d-4444-a69a-2abac325d9d0",
   "metadata": {},
   "outputs": [],
   "source": [
    "import pandas as pd\n",
    "import seaborn as sns"
   ]
  },
  {
   "cell_type": "code",
   "execution_count": 2,
   "id": "4553ac0c-0403-4ebc-ac61-431f24505a0d",
   "metadata": {},
   "outputs": [],
   "source": [
    "train = pd.read_csv(\"final_train.csv\")"
   ]
  },
  {
   "cell_type": "code",
   "execution_count": 3,
   "id": "8d916b57-bd50-4cf7-96f9-9d321d65f495",
   "metadata": {},
   "outputs": [
    {
     "data": {
      "text/html": [
       "<div>\n",
       "<style scoped>\n",
       "    .dataframe tbody tr th:only-of-type {\n",
       "        vertical-align: middle;\n",
       "    }\n",
       "\n",
       "    .dataframe tbody tr th {\n",
       "        vertical-align: top;\n",
       "    }\n",
       "\n",
       "    .dataframe thead th {\n",
       "        text-align: right;\n",
       "    }\n",
       "</style>\n",
       "<table border=\"1\" class=\"dataframe\">\n",
       "  <thead>\n",
       "    <tr style=\"text-align: right;\">\n",
       "      <th></th>\n",
       "      <th>Survived</th>\n",
       "      <th>Age</th>\n",
       "      <th>Fare</th>\n",
       "      <th>TravelAlone</th>\n",
       "      <th>Pclass_1</th>\n",
       "      <th>Pclass_2</th>\n",
       "      <th>Pclass_3</th>\n",
       "      <th>Embarked_C</th>\n",
       "      <th>Embarked_Q</th>\n",
       "      <th>Embarked_S</th>\n",
       "      <th>Sex_male</th>\n",
       "      <th>IsMinor</th>\n",
       "    </tr>\n",
       "  </thead>\n",
       "  <tbody>\n",
       "    <tr>\n",
       "      <th>0</th>\n",
       "      <td>0</td>\n",
       "      <td>22.0</td>\n",
       "      <td>7.2500</td>\n",
       "      <td>0</td>\n",
       "      <td>0</td>\n",
       "      <td>0</td>\n",
       "      <td>1</td>\n",
       "      <td>0</td>\n",
       "      <td>0</td>\n",
       "      <td>1</td>\n",
       "      <td>1</td>\n",
       "      <td>0</td>\n",
       "    </tr>\n",
       "    <tr>\n",
       "      <th>1</th>\n",
       "      <td>1</td>\n",
       "      <td>38.0</td>\n",
       "      <td>71.2833</td>\n",
       "      <td>0</td>\n",
       "      <td>1</td>\n",
       "      <td>0</td>\n",
       "      <td>0</td>\n",
       "      <td>1</td>\n",
       "      <td>0</td>\n",
       "      <td>0</td>\n",
       "      <td>0</td>\n",
       "      <td>0</td>\n",
       "    </tr>\n",
       "    <tr>\n",
       "      <th>2</th>\n",
       "      <td>1</td>\n",
       "      <td>26.0</td>\n",
       "      <td>7.9250</td>\n",
       "      <td>1</td>\n",
       "      <td>0</td>\n",
       "      <td>0</td>\n",
       "      <td>1</td>\n",
       "      <td>0</td>\n",
       "      <td>0</td>\n",
       "      <td>1</td>\n",
       "      <td>0</td>\n",
       "      <td>0</td>\n",
       "    </tr>\n",
       "    <tr>\n",
       "      <th>3</th>\n",
       "      <td>1</td>\n",
       "      <td>35.0</td>\n",
       "      <td>53.1000</td>\n",
       "      <td>0</td>\n",
       "      <td>1</td>\n",
       "      <td>0</td>\n",
       "      <td>0</td>\n",
       "      <td>0</td>\n",
       "      <td>0</td>\n",
       "      <td>1</td>\n",
       "      <td>0</td>\n",
       "      <td>0</td>\n",
       "    </tr>\n",
       "    <tr>\n",
       "      <th>4</th>\n",
       "      <td>0</td>\n",
       "      <td>35.0</td>\n",
       "      <td>8.0500</td>\n",
       "      <td>1</td>\n",
       "      <td>0</td>\n",
       "      <td>0</td>\n",
       "      <td>1</td>\n",
       "      <td>0</td>\n",
       "      <td>0</td>\n",
       "      <td>1</td>\n",
       "      <td>1</td>\n",
       "      <td>0</td>\n",
       "    </tr>\n",
       "    <tr>\n",
       "      <th>...</th>\n",
       "      <td>...</td>\n",
       "      <td>...</td>\n",
       "      <td>...</td>\n",
       "      <td>...</td>\n",
       "      <td>...</td>\n",
       "      <td>...</td>\n",
       "      <td>...</td>\n",
       "      <td>...</td>\n",
       "      <td>...</td>\n",
       "      <td>...</td>\n",
       "      <td>...</td>\n",
       "      <td>...</td>\n",
       "    </tr>\n",
       "    <tr>\n",
       "      <th>886</th>\n",
       "      <td>0</td>\n",
       "      <td>27.0</td>\n",
       "      <td>13.0000</td>\n",
       "      <td>1</td>\n",
       "      <td>0</td>\n",
       "      <td>1</td>\n",
       "      <td>0</td>\n",
       "      <td>0</td>\n",
       "      <td>0</td>\n",
       "      <td>1</td>\n",
       "      <td>1</td>\n",
       "      <td>0</td>\n",
       "    </tr>\n",
       "    <tr>\n",
       "      <th>887</th>\n",
       "      <td>1</td>\n",
       "      <td>19.0</td>\n",
       "      <td>30.0000</td>\n",
       "      <td>1</td>\n",
       "      <td>1</td>\n",
       "      <td>0</td>\n",
       "      <td>0</td>\n",
       "      <td>0</td>\n",
       "      <td>0</td>\n",
       "      <td>1</td>\n",
       "      <td>0</td>\n",
       "      <td>0</td>\n",
       "    </tr>\n",
       "    <tr>\n",
       "      <th>888</th>\n",
       "      <td>0</td>\n",
       "      <td>28.0</td>\n",
       "      <td>23.4500</td>\n",
       "      <td>0</td>\n",
       "      <td>0</td>\n",
       "      <td>0</td>\n",
       "      <td>1</td>\n",
       "      <td>0</td>\n",
       "      <td>0</td>\n",
       "      <td>1</td>\n",
       "      <td>0</td>\n",
       "      <td>0</td>\n",
       "    </tr>\n",
       "    <tr>\n",
       "      <th>889</th>\n",
       "      <td>1</td>\n",
       "      <td>26.0</td>\n",
       "      <td>30.0000</td>\n",
       "      <td>1</td>\n",
       "      <td>1</td>\n",
       "      <td>0</td>\n",
       "      <td>0</td>\n",
       "      <td>1</td>\n",
       "      <td>0</td>\n",
       "      <td>0</td>\n",
       "      <td>1</td>\n",
       "      <td>0</td>\n",
       "    </tr>\n",
       "    <tr>\n",
       "      <th>890</th>\n",
       "      <td>0</td>\n",
       "      <td>32.0</td>\n",
       "      <td>7.7500</td>\n",
       "      <td>1</td>\n",
       "      <td>0</td>\n",
       "      <td>0</td>\n",
       "      <td>1</td>\n",
       "      <td>0</td>\n",
       "      <td>1</td>\n",
       "      <td>0</td>\n",
       "      <td>1</td>\n",
       "      <td>0</td>\n",
       "    </tr>\n",
       "  </tbody>\n",
       "</table>\n",
       "<p>891 rows × 12 columns</p>\n",
       "</div>"
      ],
      "text/plain": [
       "     Survived   Age     Fare  TravelAlone  Pclass_1  Pclass_2  Pclass_3  \\\n",
       "0           0  22.0   7.2500            0         0         0         1   \n",
       "1           1  38.0  71.2833            0         1         0         0   \n",
       "2           1  26.0   7.9250            1         0         0         1   \n",
       "3           1  35.0  53.1000            0         1         0         0   \n",
       "4           0  35.0   8.0500            1         0         0         1   \n",
       "..        ...   ...      ...          ...       ...       ...       ...   \n",
       "886         0  27.0  13.0000            1         0         1         0   \n",
       "887         1  19.0  30.0000            1         1         0         0   \n",
       "888         0  28.0  23.4500            0         0         0         1   \n",
       "889         1  26.0  30.0000            1         1         0         0   \n",
       "890         0  32.0   7.7500            1         0         0         1   \n",
       "\n",
       "     Embarked_C  Embarked_Q  Embarked_S  Sex_male  IsMinor  \n",
       "0             0           0           1         1        0  \n",
       "1             1           0           0         0        0  \n",
       "2             0           0           1         0        0  \n",
       "3             0           0           1         0        0  \n",
       "4             0           0           1         1        0  \n",
       "..          ...         ...         ...       ...      ...  \n",
       "886           0           0           1         1        0  \n",
       "887           0           0           1         0        0  \n",
       "888           0           0           1         0        0  \n",
       "889           1           0           0         1        0  \n",
       "890           0           1           0         1        0  \n",
       "\n",
       "[891 rows x 12 columns]"
      ]
     },
     "execution_count": 3,
     "metadata": {},
     "output_type": "execute_result"
    }
   ],
   "source": [
    "train"
   ]
  },
  {
   "cell_type": "markdown",
   "id": "a70bf92c-0ae7-4602-b517-6a217f56c575",
   "metadata": {},
   "source": [
    "## EDA\n",
    "\n",
    "- ticket it could be a family feature\n",
    "- lower ages seem to be more prone to survive\n",
    "- fare, class and sex seem to be good predictors\n",
    "\n",
    "\n"
   ]
  },
  {
   "cell_type": "code",
   "execution_count": null,
   "id": "22b9da5b-b15d-4f14-9c9d-828098ec95d6",
   "metadata": {},
   "outputs": [],
   "source": [
    "train.sample(10).T"
   ]
  },
  {
   "cell_type": "code",
   "execution_count": null,
   "id": "61f63a1f-673d-419c-8467-97877839c09a",
   "metadata": {},
   "outputs": [],
   "source": [
    "(train[train['Ticket'].duplicated(keep=False)].sort_values(by='Ticket'))"
   ]
  },
  {
   "cell_type": "code",
   "execution_count": null,
   "id": "252bada7-8bf9-462f-b37e-2582278c16aa",
   "metadata": {},
   "outputs": [],
   "source": [
    "train.sample(10).T"
   ]
  },
  {
   "cell_type": "code",
   "execution_count": null,
   "id": "5f6c79de-42f6-4a90-b8c9-77fcac2f8d1b",
   "metadata": {},
   "outputs": [],
   "source": [
    "pd.crosstab(train['Survived'], \n",
    "            train['Embarked'], \n",
    "            normalize='index')"
   ]
  },
  {
   "cell_type": "code",
   "execution_count": null,
   "id": "0c0f2e38-b054-4de6-882b-006b6e90cd4b",
   "metadata": {},
   "outputs": [],
   "source": [
    "sns.displot(data=train,\n",
    "            x='Fare', \n",
    "#             y='Survived',\n",
    "            hue='Survived',\n",
    "            kind='kde')"
   ]
  },
  {
   "cell_type": "code",
   "execution_count": null,
   "id": "553d647b-25ad-4f34-898b-1439cd8638f1",
   "metadata": {},
   "outputs": [],
   "source": [
    "sns.violinplot(data=train, \n",
    "               x=\"Pclass\", \n",
    "               y=\"Age\", \n",
    "               hue=\"Survived\",\n",
    "               split=True);"
   ]
  },
  {
   "cell_type": "code",
   "execution_count": null,
   "id": "e635a771-c963-415a-ba47-207587d96a14",
   "metadata": {},
   "outputs": [],
   "source": [
    "train.pivot_table(index='Pclass', \n",
    "                  columns='Survived', \n",
    "                  aggfunc='size')"
   ]
  },
  {
   "cell_type": "code",
   "execution_count": null,
   "id": "d7e6e6e0-e0c7-4a01-89dd-acb551888a8b",
   "metadata": {},
   "outputs": [],
   "source": [
    "train.pivot_table(index='Sex', \n",
    "                  columns='Survived', \n",
    "                  aggfunc='size')"
   ]
  },
  {
   "cell_type": "code",
   "execution_count": null,
   "id": "398b20da-9adf-4b12-85da-56c766fb5e31",
   "metadata": {},
   "outputs": [],
   "source": [
    "train['Cabin'].value_counts(normalize=True)"
   ]
  },
  {
   "cell_type": "code",
   "execution_count": null,
   "id": "35733bb9-d466-49d4-97cc-173841ca13ce",
   "metadata": {},
   "outputs": [],
   "source": [
    "cabin = train['Cabin'].str.split(expand=True).apply(lambda s: s.str.slice(stop=1))[1].squeeze()"
   ]
  },
  {
   "cell_type": "code",
   "execution_count": null,
   "id": "4f514cf7-603f-4ca0-a5dd-0f1543eefc6f",
   "metadata": {},
   "outputs": [],
   "source": [
    "train.shape"
   ]
  },
  {
   "cell_type": "code",
   "execution_count": null,
   "id": "8dbb7b13-eb9c-4ae9-8ce9-d4ba49faffc6",
   "metadata": {},
   "outputs": [],
   "source": [
    "train['Survived'].value_counts()"
   ]
  },
  {
   "cell_type": "code",
   "execution_count": null,
   "id": "31fda12c-69b0-46d8-ade3-a5752f8546cb",
   "metadata": {},
   "outputs": [],
   "source": [
    "train['Age'].nlargest(40)"
   ]
  },
  {
   "cell_type": "code",
   "execution_count": null,
   "id": "b61cf37f-5983-4009-9c88-ef5445237979",
   "metadata": {},
   "outputs": [],
   "source": []
  }
 ],
 "metadata": {
  "kernelspec": {
   "display_name": "Python 3 (ipykernel)",
   "language": "python",
   "name": "python3"
  },
  "language_info": {
   "codemirror_mode": {
    "name": "ipython",
    "version": 3
   },
   "file_extension": ".py",
   "mimetype": "text/x-python",
   "name": "python",
   "nbconvert_exporter": "python",
   "pygments_lexer": "ipython3",
   "version": "3.10.4"
  }
 },
 "nbformat": 4,
 "nbformat_minor": 5
}
